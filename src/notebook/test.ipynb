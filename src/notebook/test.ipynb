{
 "cells": [
  {
   "cell_type": "code",
   "execution_count": 3,
   "metadata": {
    "collapsed": true
   },
   "outputs": [
    {
     "name": "stderr",
     "output_type": "stream",
     "text": [
      "Unclosed client session\n",
      "client_session: <aiohttp.client.ClientSession object at 0x10a5a6160>\n"
     ]
    },
    {
     "name": "stdout",
     "output_type": "stream",
     "text": [
      "200\n",
      "[{'timestamp': 1633065000000, 'open': '1.157865', 'low': '1.157755', 'close': '1.15782', 'high': '1.157865'}, {'timestamp': 1633064700000, 'open': '1.15791', 'low': '1.157805', 'close': '1.15787', 'high': '1.15799'}, {'timestamp': 1633064400000, 'open': '1.15803', 'low': '1.157865', 'close': '1.1579', 'high': '1.15803'}, {'timestamp': 1633064100000, 'open': '1.15786', 'low': '1.1578', 'close': '1.15804', 'high': '1.158195'}, {'timestamp': 1633063800000, 'open': '1.157755', 'low': '1.15773', 'close': '1.157855', 'high': '1.157865'}, {'timestamp': 1633063500000, 'open': '1.15778', 'low': '1.157745', 'close': '1.15775', 'high': '1.15784'}, {'timestamp': 1633063200000, 'open': '1.157645', 'low': '1.157605', 'close': '1.15777', 'high': '1.15778'}, {'timestamp': 1633062900000, 'open': '1.157635', 'low': '1.157605', 'close': '1.15765', 'high': '1.15768'}, {'timestamp': 1633062600000, 'open': '1.157795', 'low': '1.15758', 'close': '1.15764', 'high': '1.157795'}, {'timestamp': 1633062300000, 'open': '1.15783', 'low': '1.157775', 'close': '1.15779', 'high': '1.157945'}, {'timestamp': 1633062000000, 'open': '1.157935', 'low': '1.15783', 'close': '1.15784', 'high': '1.15794'}, {'timestamp': 1633061700000, 'open': '1.15789', 'low': '1.15788', 'close': '1.15794', 'high': '1.15802'}, {'timestamp': 1633061400000, 'open': '1.157835', 'low': '1.157835', 'close': '1.157895', 'high': '1.15798'}, {'timestamp': 1633061100000, 'open': '1.157765', 'low': '1.157765', 'close': '1.15784', 'high': '1.15792'}, {'timestamp': 1633060800000, 'open': '1.15758', 'low': '1.15758', 'close': '1.15774', 'high': '1.15774'}, {'timestamp': 1633060500000, 'open': '1.15758', 'low': '1.157565', 'close': '1.157585', 'high': '1.15764'}, {'timestamp': 1633060200000, 'open': '1.15759', 'low': '1.15751', 'close': '1.157585', 'high': '1.15763'}, {'timestamp': 1633059900000, 'open': '1.157525', 'low': '1.15748', 'close': '1.1576', 'high': '1.15769'}, {'timestamp': 1633059600000, 'open': '1.157535', 'low': '1.15747', 'close': '1.15753', 'high': '1.15755'}, {'timestamp': 1633059300000, 'open': '1.15768', 'low': '1.15752', 'close': '1.15754', 'high': '1.15768'}, {'timestamp': 1633059000000, 'open': '1.157615', 'low': '1.157575', 'close': '1.15767', 'high': '1.157705'}, {'timestamp': 1633058700000, 'open': '1.15762', 'low': '1.15758', 'close': '1.15761', 'high': '1.157715'}, {'timestamp': 1633058400000, 'open': '1.15758', 'low': '1.15749', 'close': '1.15763', 'high': '1.15763'}, {'timestamp': 1633058100000, 'open': '1.157805', 'low': '1.157525', 'close': '1.157585', 'high': '1.157805'}, {'timestamp': 1633057800000, 'open': '1.15774', 'low': '1.1577', 'close': '1.15782', 'high': '1.15787'}, {'timestamp': 1633057500000, 'open': '1.15778', 'low': '1.15774', 'close': '1.157745', 'high': '1.157825'}, {'timestamp': 1633057200000, 'open': '1.15774', 'low': '1.15774', 'close': '1.157775', 'high': '1.157885'}, {'timestamp': 1633056900000, 'open': '1.157625', 'low': '1.157565', 'close': '1.157735', 'high': '1.157775'}, {'timestamp': 1633056600000, 'open': '1.157555', 'low': '1.157555', 'close': '1.15763', 'high': '1.157775'}, {'timestamp': 1633056300000, 'open': '1.157745', 'low': '1.15753', 'close': '1.157535', 'high': '1.157775'}, {'timestamp': 1633056000000, 'open': '1.157535', 'low': '1.15753', 'close': '1.15774', 'high': '1.157935'}, {'timestamp': 1633055700000, 'open': '1.157625', 'low': '1.15752', 'close': '1.15753', 'high': '1.15767'}, {'timestamp': 1633055400000, 'open': '1.157675', 'low': '1.157615', 'close': '1.15762', 'high': '1.15769'}, {'timestamp': 1633055100000, 'open': '1.15742', 'low': '1.15741', 'close': '1.157685', 'high': '1.15772'}, {'timestamp': 1633054800000, 'open': '1.15729', 'low': '1.15728', 'close': '1.157425', 'high': '1.15747'}, {'timestamp': 1633054500000, 'open': '1.157285', 'low': '1.15717', 'close': '1.157295', 'high': '1.157395'}, {'timestamp': 1633054200000, 'open': '1.157325', 'low': '1.157255', 'close': '1.15729', 'high': '1.15739'}, {'timestamp': 1633053900000, 'open': '1.157635', 'low': '1.157315', 'close': '1.15732', 'high': '1.157635'}, {'timestamp': 1633053600000, 'open': '1.15759', 'low': '1.15753', 'close': '1.15763', 'high': '1.157695'}, {'timestamp': 1633053300000, 'open': '1.157485', 'low': '1.157335', 'close': '1.15758', 'high': '1.15759'}, {'timestamp': 1633053000000, 'open': '1.157295', 'low': '1.157295', 'close': '1.15749', 'high': '1.15751'}, {'timestamp': 1633052700000, 'open': '1.15728', 'low': '1.15721', 'close': '1.15729', 'high': '1.15739'}, {'timestamp': 1633052400000, 'open': '1.15722', 'low': '1.157145', 'close': '1.157275', 'high': '1.15734'}, {'timestamp': 1633052100000, 'open': '1.157175', 'low': '1.15701', 'close': '1.15723', 'high': '1.15728'}, {'timestamp': 1633051800000, 'open': '1.157115', 'low': '1.15702', 'close': '1.157165', 'high': '1.15727'}, {'timestamp': 1633051500000, 'open': '1.156915', 'low': '1.15688', 'close': '1.15712', 'high': '1.15723'}, {'timestamp': 1633051200000, 'open': '1.156475', 'low': '1.156455', 'close': '1.15691', 'high': '1.15692'}, {'timestamp': 1633050900000, 'open': '1.156365', 'low': '1.15635', 'close': '1.15648', 'high': '1.15662'}, {'timestamp': 1633050600000, 'open': '1.15657', 'low': '1.15636', 'close': '1.15636', 'high': '1.1568'}, {'timestamp': 1633050300000, 'open': '1.1567', 'low': '1.15648', 'close': '1.15656', 'high': '1.156795'}, {'timestamp': 1633050000000, 'open': '1.15654', 'low': '1.156295', 'close': '1.156695', 'high': '1.15673'}, {'timestamp': 1633049700000, 'open': '1.15672', 'low': '1.156525', 'close': '1.156525', 'high': '1.15683'}, {'timestamp': 1633049400000, 'open': '1.15687', 'low': '1.156655', 'close': '1.156725', 'high': '1.15689'}, {'timestamp': 1633049100000, 'open': '1.15694', 'low': '1.15682', 'close': '1.156875', 'high': '1.156985'}, {'timestamp': 1633048800000, 'open': '1.15714', 'low': '1.1569', 'close': '1.156935', 'high': '1.15714'}, {'timestamp': 1633048500000, 'open': '1.157165', 'low': '1.156975', 'close': '1.157145', 'high': '1.157175'}, {'timestamp': 1633048200000, 'open': '1.157385', 'low': '1.157165', 'close': '1.15717', 'high': '1.15739'}, {'timestamp': 1633047900000, 'open': '1.1574', 'low': '1.15732', 'close': '1.15739', 'high': '1.157485'}, {'timestamp': 1633047600000, 'open': '1.15724', 'low': '1.157135', 'close': '1.15739', 'high': '1.157425'}, {'timestamp': 1633047300000, 'open': '1.157105', 'low': '1.157105', 'close': '1.157245', 'high': '1.15744'}, {'timestamp': 1633047000000, 'open': '1.157175', 'low': '1.15697', 'close': '1.15712', 'high': '1.15724'}, {'timestamp': 1633046700000, 'open': '1.15728', 'low': '1.15717', 'close': '1.15718', 'high': '1.15739'}, {'timestamp': 1633046400000, 'open': '1.157385', 'low': '1.15712', 'close': '1.157275', 'high': '1.15774'}, {'timestamp': 1633046100000, 'open': '1.15741', 'low': '1.15738', 'close': '1.15739', 'high': '1.15753'}, {'timestamp': 1633045800000, 'open': '1.157385', 'low': '1.15731', 'close': '1.15738', 'high': '1.1575'}, {'timestamp': 1633045500000, 'open': '1.15749', 'low': '1.15738', 'close': '1.15739', 'high': '1.15749'}, {'timestamp': 1633045200000, 'open': '1.157505', 'low': '1.15748', 'close': '1.15748', 'high': '1.15757'}, {'timestamp': 1633044900000, 'open': '1.157595', 'low': '1.15748', 'close': '1.15749', 'high': '1.1576'}, {'timestamp': 1633044600000, 'open': '1.15764', 'low': '1.15758', 'close': '1.15758', 'high': '1.157645'}, {'timestamp': 1633044300000, 'open': '1.15763', 'low': '1.157625', 'close': '1.15763', 'high': '1.15768'}, {'timestamp': 1633044000000, 'open': '1.157615', 'low': '1.157615', 'close': '1.157635', 'high': '1.157695'}, {'timestamp': 1633043700000, 'open': '1.1578', 'low': '1.15755', 'close': '1.1576', 'high': '1.1578'}, {'timestamp': 1633043400000, 'open': '1.15788', 'low': '1.15779', 'close': '1.157815', 'high': '1.157925'}, {'timestamp': 1633043100000, 'open': '1.158025', 'low': '1.157875', 'close': '1.157875', 'high': '1.158035'}, {'timestamp': 1633042800000, 'open': '1.15812', 'low': '1.158035', 'close': '1.158035', 'high': '1.15812'}, {'timestamp': 1633042500000, 'open': '1.15809', 'low': '1.15804', 'close': '1.15808', 'high': '1.15809'}, {'timestamp': 1633042200000, 'open': '1.15803', 'low': '1.15802', 'close': '1.15808', 'high': '1.15808'}, {'timestamp': 1633041900000, 'open': '1.15803', 'low': '1.15798', 'close': '1.15804', 'high': '1.15804'}, {'timestamp': 1633041600000, 'open': '1.15807', 'low': '1.15802', 'close': '1.15804', 'high': '1.15808'}, {'timestamp': 1633041300000, 'open': '1.15798', 'low': '1.15798', 'close': '1.15808', 'high': '1.15808'}, {'timestamp': 1633041000000, 'open': '1.1581', 'low': '1.15798', 'close': '1.158', 'high': '1.15812'}, {'timestamp': 1633040700000, 'open': '1.15806', 'low': '1.15798', 'close': '1.15813', 'high': '1.15813'}, {'timestamp': 1633040400000, 'open': '1.15804', 'low': '1.15802', 'close': '1.15803', 'high': '1.1581'}, {'timestamp': 1633040100000, 'open': '1.15809', 'low': '1.15798', 'close': '1.15802', 'high': '1.15812'}, {'timestamp': 1633039800000, 'open': '1.15818', 'low': '1.15808', 'close': '1.15808', 'high': '1.1582'}, {'timestamp': 1633039500000, 'open': '1.15814', 'low': '1.15808', 'close': '1.15819', 'high': '1.15819'}, {'timestamp': 1633039200000, 'open': '1.15817', 'low': '1.157995', 'close': '1.15815', 'high': '1.15826'}, {'timestamp': 1633038900000, 'open': '1.158225', 'low': '1.158165', 'close': '1.15817', 'high': '1.158225'}, {'timestamp': 1633038600000, 'open': '1.158215', 'low': '1.1581', 'close': '1.158165', 'high': '1.158215'}, {'timestamp': 1633038300000, 'open': '1.15818', 'low': '1.158145', 'close': '1.15817', 'high': '1.158205'}, {'timestamp': 1633038000000, 'open': '1.158305', 'low': '1.15802', 'close': '1.15817', 'high': '1.158305'}, {'timestamp': 1633037700000, 'open': '1.158285', 'low': '1.15826', 'close': '1.158315', 'high': '1.158315'}, {'timestamp': 1633037400000, 'open': '1.158315', 'low': '1.15818', 'close': '1.1583', 'high': '1.158345'}, {'timestamp': 1633037100000, 'open': '1.158105', 'low': '1.15799', 'close': '1.158325', 'high': '1.158445'}, {'timestamp': 1633036800000, 'open': '1.15802', 'low': '1.15802', 'close': '1.158105', 'high': '1.158125'}, {'timestamp': 1633036500000, 'open': '1.158055', 'low': '1.15804', 'close': '1.15804', 'high': '1.158055'}, {'timestamp': 1633036200000, 'open': '1.157745', 'low': '1.157735', 'close': '1.15804', 'high': '1.15805'}, {'timestamp': 1633035900000, 'open': '1.15775', 'low': '1.157725', 'close': '1.15782', 'high': '1.157845'}, {'timestamp': 1633035300000, 'open': '1.157565', 'low': '1.157525', 'close': '1.157765', 'high': '1.158015'}, {'timestamp': 1633035000000, 'open': '1.15762', 'low': '1.15752', 'close': '1.157575', 'high': '1.15771'}]\n",
      "100\n"
     ]
    }
   ],
   "source": [
    "from exante_api import ExanteApi\n",
    "application_id = 'e2b62931-4cf2-4b6f-a319-b94f1a6341f5'\n",
    "access_key = 'jf5ODSu3jZ8DQXhxdlTN'\n",
    "api = ExanteApi(application_id=application_id, access_key=access_key, demo=True)\n",
    "\n",
    "r = await api.get_ohlcv('EUR/USD.E.FX', '300', size=100)\n",
    "print(r.status)\n",
    "if r.status == 200:\n",
    "    data = await r.json()\n",
    "    print(data)\n",
    "    print(len(data))\n",
    "else:\n",
    "    text = await r.text()\n",
    "    print(text)\n",
    "\n",
    "\n",
    "await api.close()"
   ]
  },
  {
   "cell_type": "code",
   "execution_count": 11,
   "outputs": [
    {
     "name": "stderr",
     "output_type": "stream",
     "text": [
      "Exception ignored in: <coroutine object main at 0x112c539c0>\n",
      "Traceback (most recent call last):\n",
      "  File \"<string>\", line 1, in <lambda>\n",
      "AttributeError: 'NoneType' object has no attribute '__import__'\n",
      "Exception ignored in: <coroutine object main at 0x112c539c0>\n",
      "Traceback (most recent call last):\n",
      "  File \"<string>\", line 1, in <lambda>\n",
      "AttributeError: 'NoneType' object has no attribute '__import__'\n",
      "Unclosed client session\n",
      "client_session: <aiohttp.client.ClientSession object at 0x1131ce970>\n"
     ]
    },
    {
     "name": "stdout",
     "output_type": "stream",
     "text": [
      "100\n",
      "e2b62931-4cf2-4b6f-a319-b94f1a6341f5\n",
      "\u001B[34mStart listening https://api-demo.exante.eu/md/3.0/feed/EUR%2FUSD.E.FX\u001B[0m\n",
      "----------------------------------------\n",
      "{'timestamp': 1633065967960, 'symbolId': 'EUR/USD.E.FX', 'event': 'subscription_start'}\n",
      "----------------------------------------\n",
      "\u001B[31mobject NoneType can't be used in 'await' expression\u001B[0m\n",
      "\u001B[34mStart listening https://api-demo.exante.eu/md/3.0/feed/EUR%2FUSD.E.FX\u001B[0m\n",
      "----------------------------------------\n",
      "{'timestamp': 1633065969043, 'symbolId': 'EUR/USD.E.FX', 'event': 'subscription_start'}\n",
      "----------------------------------------\n",
      "\u001B[31mobject NoneType can't be used in 'await' expression\u001B[0m\n",
      "\u001B[34mStart listening https://api-demo.exante.eu/md/3.0/feed/EUR%2FUSD.E.FX\u001B[0m\n",
      "----------------------------------------\n",
      "{'timestamp': 1633065970653, 'symbolId': 'EUR/USD.E.FX', 'event': 'subscription_start'}\n",
      "----------------------------------------\n",
      "\u001B[31mobject NoneType can't be used in 'await' expression\u001B[0m\n",
      "\u001B[34mStart listening https://api-demo.exante.eu/md/3.0/feed/EUR%2FUSD.E.FX\u001B[0m\n",
      "----------------------------------------\n",
      "{'timestamp': 1633065973225, 'symbolId': 'EUR/USD.E.FX', 'event': 'subscription_start'}\n",
      "----------------------------------------\n",
      "\u001B[31mobject NoneType can't be used in 'await' expression\u001B[0m\n"
     ]
    },
    {
     "ename": "CancelledError",
     "evalue": "",
     "output_type": "error",
     "traceback": [
      "\u001B[0;31m---------------------------------------------------------------------------\u001B[0m",
      "\u001B[0;31mCancelledError\u001B[0m                            Traceback (most recent call last)",
      "\u001B[0;32m/var/folders/dn/cjvhxhkn70g6lvb0xq1_48sr0000gn/T/ipykernel_12918/2518905923.py\u001B[0m in \u001B[0;36m<module>\u001B[0;34m\u001B[0m\n\u001B[1;32m     34\u001B[0m \u001B[0mprint\u001B[0m\u001B[0;34m(\u001B[0m\u001B[0mapplication_id\u001B[0m\u001B[0;34m)\u001B[0m\u001B[0;34m\u001B[0m\u001B[0;34m\u001B[0m\u001B[0m\n\u001B[1;32m     35\u001B[0m \u001B[0mapi\u001B[0m \u001B[0;34m=\u001B[0m \u001B[0mExanteApi\u001B[0m\u001B[0;34m(\u001B[0m\u001B[0mapplication_id\u001B[0m\u001B[0;34m=\u001B[0m\u001B[0mapplication_id\u001B[0m\u001B[0;34m,\u001B[0m \u001B[0maccess_key\u001B[0m\u001B[0;34m=\u001B[0m\u001B[0maccess_key\u001B[0m\u001B[0;34m,\u001B[0m \u001B[0mdemo\u001B[0m\u001B[0;34m=\u001B[0m\u001B[0;32mTrue\u001B[0m\u001B[0;34m)\u001B[0m\u001B[0;34m\u001B[0m\u001B[0;34m\u001B[0m\u001B[0m\n\u001B[0;32m---> 36\u001B[0;31m \u001B[0;32mawait\u001B[0m \u001B[0mapi\u001B[0m\u001B[0;34m.\u001B[0m\u001B[0mquote_stream\u001B[0m\u001B[0;34m(\u001B[0m\u001B[0;34m'EUR/USD.E.FX'\u001B[0m\u001B[0;34m,\u001B[0m \u001B[0mprocessor\u001B[0m\u001B[0;34m)\u001B[0m\u001B[0;34m\u001B[0m\u001B[0;34m\u001B[0m\u001B[0m\n\u001B[0m\u001B[1;32m     37\u001B[0m \u001B[0;34m\u001B[0m\u001B[0m\n\u001B[1;32m     38\u001B[0m \u001B[0;31m# fig.show()\u001B[0m\u001B[0;34m\u001B[0m\u001B[0;34m\u001B[0m\u001B[0;34m\u001B[0m\u001B[0m\n",
      "\u001B[0;32m~/sites/exante_bot/src/exante_api/client.py\u001B[0m in \u001B[0;36mquote_stream\u001B[0;34m(self, symbol, processor)\u001B[0m\n\u001B[1;32m    109\u001B[0m         \"\"\"\n\u001B[1;32m    110\u001B[0m         \u001B[0murl_quotes\u001B[0m \u001B[0;34m=\u001B[0m \u001B[0mself\u001B[0m\u001B[0;34m.\u001B[0m\u001B[0mget_url\u001B[0m\u001B[0;34m(\u001B[0m\u001B[0;34m'feed'\u001B[0m\u001B[0;34m,\u001B[0m \u001B[0;34m[\u001B[0m\u001B[0msymbol\u001B[0m\u001B[0;34m]\u001B[0m\u001B[0;34m,\u001B[0m \u001B[0mtype\u001B[0m\u001B[0;34m=\u001B[0m\u001B[0;34m'md'\u001B[0m\u001B[0;34m)\u001B[0m\u001B[0;34m\u001B[0m\u001B[0;34m\u001B[0m\u001B[0m\n\u001B[0;32m--> 111\u001B[0;31m         \u001B[0;32mreturn\u001B[0m \u001B[0;32mawait\u001B[0m \u001B[0mself\u001B[0m\u001B[0;34m.\u001B[0m\u001B[0mdata_stream\u001B[0m\u001B[0;34m(\u001B[0m\u001B[0murl_quotes\u001B[0m\u001B[0;34m,\u001B[0m \u001B[0mprocessor\u001B[0m\u001B[0;34m)\u001B[0m\u001B[0;34m\u001B[0m\u001B[0;34m\u001B[0m\u001B[0m\n\u001B[0m\u001B[1;32m    112\u001B[0m \u001B[0;34m\u001B[0m\u001B[0m\n\u001B[1;32m    113\u001B[0m     \u001B[0;31m# async def trade_stream(self, on_event):\u001B[0m\u001B[0;34m\u001B[0m\u001B[0;34m\u001B[0m\u001B[0;34m\u001B[0m\u001B[0m\n",
      "\u001B[0;32m~/sites/exante_bot/src/exante_api/client.py\u001B[0m in \u001B[0;36mdata_stream\u001B[0;34m(self, url, processor)\u001B[0m\n\u001B[1;32m    101\u001B[0m                 \u001B[0mcprint\u001B[0m\u001B[0;34m(\u001B[0m\u001B[0me\u001B[0m\u001B[0;34m,\u001B[0m \u001B[0;34m\"red\"\u001B[0m\u001B[0;34m)\u001B[0m\u001B[0;34m\u001B[0m\u001B[0;34m\u001B[0m\u001B[0m\n\u001B[1;32m    102\u001B[0m \u001B[0;34m\u001B[0m\u001B[0m\n\u001B[0;32m--> 103\u001B[0;31m             \u001B[0;32mawait\u001B[0m \u001B[0masyncio\u001B[0m\u001B[0;34m.\u001B[0m\u001B[0msleep\u001B[0m\u001B[0;34m(\u001B[0m\u001B[0mdelay\u001B[0m\u001B[0;34m)\u001B[0m\u001B[0;34m\u001B[0m\u001B[0;34m\u001B[0m\u001B[0m\n\u001B[0m\u001B[1;32m    104\u001B[0m             \u001B[0mdelay\u001B[0m \u001B[0;34m=\u001B[0m \u001B[0mmin\u001B[0m\u001B[0;34m(\u001B[0m\u001B[0mmax_delay\u001B[0m\u001B[0;34m,\u001B[0m \u001B[0mdelay\u001B[0m \u001B[0;34m*\u001B[0m \u001B[0;36m2\u001B[0m\u001B[0;34m)\u001B[0m  \u001B[0;31m# exponential delay\u001B[0m\u001B[0;34m\u001B[0m\u001B[0;34m\u001B[0m\u001B[0m\n\u001B[1;32m    105\u001B[0m \u001B[0;34m\u001B[0m\u001B[0m\n",
      "\u001B[0;32m~/.pyenv/versions/3.9.1/lib/python3.9/asyncio/tasks.py\u001B[0m in \u001B[0;36msleep\u001B[0;34m(delay, result, loop)\u001B[0m\n\u001B[1;32m    649\u001B[0m                         future, result)\n\u001B[1;32m    650\u001B[0m     \u001B[0;32mtry\u001B[0m\u001B[0;34m:\u001B[0m\u001B[0;34m\u001B[0m\u001B[0;34m\u001B[0m\u001B[0m\n\u001B[0;32m--> 651\u001B[0;31m         \u001B[0;32mreturn\u001B[0m \u001B[0;32mawait\u001B[0m \u001B[0mfuture\u001B[0m\u001B[0;34m\u001B[0m\u001B[0;34m\u001B[0m\u001B[0m\n\u001B[0m\u001B[1;32m    652\u001B[0m     \u001B[0;32mfinally\u001B[0m\u001B[0;34m:\u001B[0m\u001B[0;34m\u001B[0m\u001B[0;34m\u001B[0m\u001B[0m\n\u001B[1;32m    653\u001B[0m         \u001B[0mh\u001B[0m\u001B[0;34m.\u001B[0m\u001B[0mcancel\u001B[0m\u001B[0;34m(\u001B[0m\u001B[0;34m)\u001B[0m\u001B[0;34m\u001B[0m\u001B[0;34m\u001B[0m\u001B[0m\n",
      "\u001B[0;31mCancelledError\u001B[0m: "
     ]
    }
   ],
   "source": [
    "print(len(data))\n",
    "\n",
    "from datetime import datetime\n",
    "\n",
    "dates = []\n",
    "open = []\n",
    "high = []\n",
    "low = []\n",
    "close = []\n",
    "for row in data:\n",
    "    dates.append(datetime.fromtimestamp(row['timestamp'] / 1000.0).strftime('%Y-%m-%d %H:%M:%S.%f'))\n",
    "    open.append(float(row['open']))\n",
    "    high.append(float(row['high']))\n",
    "    low.append(float(row['low']))\n",
    "    close.append(float(row['close']))\n",
    "\n",
    "import plotly.graph_objects as go\n",
    "fig = go.Figure(data=[\n",
    "    go.Candlestick(x=dates,\n",
    "                   open=open,\n",
    "                   high=high,\n",
    "                   low=low,\n",
    "                   close=close,\n",
    "                   name=\"candles\"\n",
    "                   ),\n",
    "])\n",
    "\n",
    "def processor(data):\n",
    "    print('-'*40)\n",
    "    print(data)\n",
    "    print('-'*40)\n",
    "    # fig.show()\n",
    "\n",
    "print(application_id)\n",
    "api = ExanteApi(application_id=application_id, access_key=access_key, demo=True)\n",
    "await api.quote_stream('EUR/USD.E.FX', processor)\n",
    "\n",
    "# fig.show()"
   ],
   "metadata": {
    "collapsed": false,
    "pycharm": {
     "name": "#%%\n"
    }
   }
  },
  {
   "cell_type": "code",
   "execution_count": 4,
   "outputs": [],
   "source": [],
   "metadata": {
    "collapsed": false,
    "pycharm": {
     "name": "#%%\n"
    }
   }
  }
 ],
 "metadata": {
  "kernelspec": {
   "display_name": "Python 3",
   "language": "python",
   "name": "python3"
  },
  "language_info": {
   "codemirror_mode": {
    "name": "ipython",
    "version": 2
   },
   "file_extension": ".py",
   "mimetype": "text/x-python",
   "name": "python",
   "nbconvert_exporter": "python",
   "pygments_lexer": "ipython2",
   "version": "2.7.6"
  }
 },
 "nbformat": 4,
 "nbformat_minor": 0
}